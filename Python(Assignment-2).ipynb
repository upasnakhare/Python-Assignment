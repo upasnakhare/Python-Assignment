{
 "cells": [
  {
   "cell_type": "code",
   "execution_count": 2,
   "id": "ed4994d8",
   "metadata": {},
   "outputs": [],
   "source": [
    "1.What are the two values of the Boolean data type? How do you write them?\n",
    "\n",
    "The two values of boolean data type is True and False. These value is declared by using keywords (true of false) where true = 1 and false = 0. "
   ]
  },
  {
   "cell_type": "code",
   "execution_count": null,
   "id": "30506e6a",
   "metadata": {},
   "outputs": [],
   "source": [
    "2. What are the three different types of Boolean operators?\n",
    "\n",
    "The three different types of Boolean operators are and, or, not. "
   ]
  },
  {
   "cell_type": "code",
   "execution_count": null,
   "id": "baa52364",
   "metadata": {},
   "outputs": [],
   "source": [
    "3. Make a list of each Boolean operator's truth tables (i.e. every possible combination of Boolean values for the operator and what it evaluate ).\n",
    "\n",
    "AND operator : \n",
    "    \n",
    "    X    Y    X and Y\n",
    "\n",
    "    T    T       T\n",
    "    T    F       F\n",
    "    F    T       F\n",
    "    F    F       F\n",
    "    \n",
    "OR operator :\n",
    "    \n",
    "    X    Y    X or Y\n",
    "    \n",
    "    T    T      T\n",
    "    T    F      T\n",
    "    F    T      T\n",
    "    F    F      F\n",
    "    \n",
    "NOT operator :\n",
    "    \n",
    "    X    Y    X not Y\n",
    "    \n",
    "    T    T      F\n",
    "    T    F      F\n",
    "    F    T      T\n",
    "    F    F      T"
   ]
  },
  {
   "cell_type": "code",
   "execution_count": null,
   "id": "dac245eb",
   "metadata": {},
   "outputs": [],
   "source": [
    "4. What are the values of the following expressions?\n",
    "\n",
    "1. (5 > 4) and (3 == 5)---> False\n",
    "2. not (5 > 4)---> False\n",
    "3. (5 > 4) or (3 == 5)---> True\n",
    "4. not ((5 > 4) or (3 == 5))---> False\n",
    "5. (True and True) and (True == False)---> False\n",
    "6. (not False) or (not True)---> True\n"
   ]
  },
  {
   "cell_type": "code",
   "execution_count": null,
   "id": "3c3f91a3",
   "metadata": {},
   "outputs": [],
   "source": [
    "5. What are the six comparison operators?\n",
    "\n",
    "The six comparison operators are: \n",
    "    1. equal to (=)\n",
    "    2. not equal to (!=)\n",
    "    3. greater than (>)\n",
    "    4. greater than equal to (>=)\n",
    "    5. less than (<)\n",
    "    6. less than equal to (<=)"
   ]
  },
  {
   "cell_type": "code",
   "execution_count": null,
   "id": "eb083112",
   "metadata": {},
   "outputs": [],
   "source": [
    "6. How do you tell the difference between the equal to and assignment operators?Describe a condition and when you would use one.\n",
    "\n",
    "For assiging a variable we use single equal to \"=\" symbol. ex:  a = 10\n",
    "For equal to or for comparing two different values we use equal to symbol two times \"==\". ex:  a == 10"
   ]
  },
  {
   "cell_type": "code",
   "execution_count": null,
   "id": "889ed0a5",
   "metadata": {},
   "outputs": [],
   "source": [
    "7. Identify the three blocks in this code:\n",
    "spam = 0\n",
    "if spam == 10:\n",
    "print('eggs')\n",
    "if spam > 5:\n",
    "print('bacon')\n",
    "else:\n",
    "print('ham')\n",
    "print('spam')\n",
    "print('spam')\n",
    "\n",
    "The three blocks are all the lines which we have written inside the if statement including print(). "
   ]
  },
  {
   "cell_type": "code",
   "execution_count": null,
   "id": "a66aa11f",
   "metadata": {},
   "outputs": [],
   "source": [
    "8. Write code that prints Hello if 1 is stored in spam, prints Howdy if 2 is stored in spam, and prints Greetings! if anything else is stored in spam.\n",
    "\n",
    "spam = int(input())\n",
    "if spam == 1:\n",
    "    print(\"Hello\")\n",
    "if spam == 2:\n",
    "    print(\"Howdy\")\n",
    "else: \n",
    "    print(\"Greeting!\")\n"
   ]
  },
  {
   "cell_type": "code",
   "execution_count": null,
   "id": "535e88ae",
   "metadata": {},
   "outputs": [],
   "source": [
    "9.If your programme is stuck in an endless loop, what keys you’ll press?\n",
    "\n",
    "We will press ctrl + c"
   ]
  },
  {
   "cell_type": "code",
   "execution_count": null,
   "id": "8ee9f536",
   "metadata": {},
   "outputs": [],
   "source": [
    "10. How can you tell the difference between break and continue?\n",
    "\n",
    "Break statement: \n",
    "    1. break statement is used to stop or terminate the loop immediately after a given condition. \n",
    "    2. break statement is used as an exit statement which gets stops at certain point. \n",
    "Continue statement: \n",
    "    1. continue statement terminates the current iteration and resumes the next iteration of loop \n",
    "    2. continue is used to move from one loop to next loop."
   ]
  },
  {
   "cell_type": "code",
   "execution_count": null,
   "id": "2a5d81b1",
   "metadata": {},
   "outputs": [],
   "source": [
    "11. In a for loop, what is the difference between range(10), range(0, 10), and range(0, 10, 1)?\n",
    "\n",
    "1. range(10) - This inbuilf function range() will take only single argument and will print the sequence of numbers starting from 0 to 9 (excluding the end point which is 10)\n",
    "   for ex: range(10) will print numbers from 0 to 9 (excluding the upper bound)- 0,1,2,3,4,5,6,7,8,9\n",
    "        \n",
    "2. range (0, 10) - in this we are passing two arguments starting point (0) and ending point (10) and again this will print the sequence of number 0 to 9 excluding 10\n",
    "\n",
    "3. range (0, 10, 1)- in this type we will pass three arguments start, end and a jump. However this will print numbers starts from 0 and end till 10 (exclusinf upper bound) with a jump of 1\n"
   ]
  },
  {
   "cell_type": "code",
   "execution_count": 10,
   "id": "56a84cdc",
   "metadata": {},
   "outputs": [
    {
     "name": "stdout",
     "output_type": "stream",
     "text": [
      "1\n",
      "2\n",
      "3\n",
      "4\n",
      "5\n",
      "6\n",
      "7\n",
      "8\n",
      "9\n",
      "10\n"
     ]
    }
   ],
   "source": [
    "12. Write a short program that prints the numbers 1 to 10 using a for loop. Then write an equivalent program that prints the numbers 1 to 10 using a while loop.\n",
    "\n",
    "for i in range(1, 11):\n",
    "    print(i)"
   ]
  },
  {
   "cell_type": "code",
   "execution_count": 12,
   "id": "2aa37f59",
   "metadata": {},
   "outputs": [
    {
     "name": "stdout",
     "output_type": "stream",
     "text": [
      "1\n",
      "2\n",
      "3\n",
      "4\n",
      "5\n",
      "6\n",
      "7\n",
      "8\n",
      "9\n",
      "10\n"
     ]
    }
   ],
   "source": [
    "i = 1\n",
    "while i <=10 :\n",
    "    print(i)\n",
    "    i = i+1"
   ]
  },
  {
   "cell_type": "code",
   "execution_count": null,
   "id": "5149b3cd",
   "metadata": {},
   "outputs": [],
   "source": [
    "13. If you had a function named bacon() inside a module named spam, how would you call it after importing spam?\n",
    "\n",
    "The function will be called as spam.bacon()"
   ]
  }
 ],
 "metadata": {
  "kernelspec": {
   "display_name": "Python 3 (ipykernel)",
   "language": "python",
   "name": "python3"
  },
  "language_info": {
   "codemirror_mode": {
    "name": "ipython",
    "version": 3
   },
   "file_extension": ".py",
   "mimetype": "text/x-python",
   "name": "python",
   "nbconvert_exporter": "python",
   "pygments_lexer": "ipython3",
   "version": "3.9.7"
  }
 },
 "nbformat": 4,
 "nbformat_minor": 5
}
