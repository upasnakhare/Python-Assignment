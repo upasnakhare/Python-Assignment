{
 "cells": [
  {
   "cell_type": "code",
   "execution_count": null,
   "id": "ebd210f2",
   "metadata": {},
   "outputs": [],
   "source": [
    "1. Why are functions advantageous to have in your programs?\n",
    "\n",
    "Having functions in program is beneficial because we can reuse a piece of code at any point of a time. "
   ]
  },
  {
   "cell_type": "code",
   "execution_count": null,
   "id": "2753661f",
   "metadata": {},
   "outputs": [],
   "source": [
    "2. When does the code in a function run: when it's specified or when it's called?\n",
    "    \n",
    "The code of a function will get run when the function is called."
   ]
  },
  {
   "cell_type": "code",
   "execution_count": null,
   "id": "04a37145",
   "metadata": {},
   "outputs": [],
   "source": [
    "3. What statement creates a function?\n",
    "\n",
    "Def statement is used to create a function. Ex:  def test()"
   ]
  },
  {
   "cell_type": "code",
   "execution_count": null,
   "id": "5951a3db",
   "metadata": {},
   "outputs": [],
   "source": [
    "4. What is the difference between a function and a function call?\n",
    "\n",
    "function: \n",
    "    1. A function is a piece of code which is used perform a specific operation or it is used to overcome the repeatation of code in our program. \n",
    "\n",
    "function call:\n",
    "    1. A function call is used to invoke or call the function which we have written to perform a particular operation. "
   ]
  },
  {
   "cell_type": "code",
   "execution_count": null,
   "id": "fcebf19a",
   "metadata": {},
   "outputs": [],
   "source": [
    "5. How many global scopes are there in a Python program? How many local scopes?\n",
    "\n",
    "There is only one global scope in python. When we create a variable inside the function that variable is belongs to the local scope of that function which is used inside that function only. \n"
   ]
  },
  {
   "cell_type": "code",
   "execution_count": null,
   "id": "89fc0f9d",
   "metadata": {},
   "outputs": [],
   "source": [
    "6. What happens to variables in a local scope when the function call returns?\n",
    "\n",
    "When the function calls return the variable in a local scope gets destroyed. "
   ]
  },
  {
   "cell_type": "code",
   "execution_count": null,
   "id": "20495156",
   "metadata": {},
   "outputs": [],
   "source": [
    "7. What is the concept of a return value? Is it possible to have a return value in an expression?\n",
    "\n",
    "A return value is a value which we get when return statement ends the execution of a function. The return value can be used in an expression like any other values.    "
   ]
  },
  {
   "cell_type": "code",
   "execution_count": null,
   "id": "37ffa271",
   "metadata": {},
   "outputs": [],
   "source": [
    "8. If a function does not have a return statement, what is the return value of a call to that function?\n",
    "\n",
    "If a function doesn’t have return statement than the return value of that function which has been called will be “none type”."
   ]
  },
  {
   "cell_type": "code",
   "execution_count": null,
   "id": "cdd6b1f5",
   "metadata": {},
   "outputs": [],
   "source": [
    "9. How do you make a function variable refer to the global variable?\n",
    "\n",
    "We can use global keyword/statement to declare the variable of a function which will act as a global varibale after declaration. "
   ]
  },
  {
   "cell_type": "code",
   "execution_count": null,
   "id": "6a73c8ad",
   "metadata": {},
   "outputs": [],
   "source": [
    "10. What is the data type of None?\n",
    "\n",
    "Data type of “None” is “none type”."
   ]
  },
  {
   "cell_type": "code",
   "execution_count": null,
   "id": "eed4692d",
   "metadata": {},
   "outputs": [],
   "source": [
    "11. What does the sentence import areallyourpetsnamederic do?\n",
    "\n",
    "This sentence will import the module named as areallyourpetsnamederic."
   ]
  },
  {
   "cell_type": "code",
   "execution_count": null,
   "id": "cbb1b1b3",
   "metadata": {},
   "outputs": [],
   "source": [
    "12. If you had a bacon() feature in a spam module, what would you call it after importing spam?\n",
    "\n",
    "We will call it as spam.bacon()"
   ]
  },
  {
   "cell_type": "code",
   "execution_count": null,
   "id": "c714d169",
   "metadata": {},
   "outputs": [],
   "source": [
    "13. What can you do to save a programme from crashing if it encounters an error?\n",
    "\n",
    "We can write the particular code which in a try block to save it from crashing."
   ]
  },
  {
   "cell_type": "code",
   "execution_count": null,
   "id": "00505241",
   "metadata": {},
   "outputs": [],
   "source": [
    "14. What is the purpose of the try clause? What is the purpose of the except clause?\n",
    "\n",
    "The piece of code which can possible through an error will be in try clause and the code which get executes if an error occurs will be in except clause"
   ]
  }
 ],
 "metadata": {
  "kernelspec": {
   "display_name": "Python 3 (ipykernel)",
   "language": "python",
   "name": "python3"
  },
  "language_info": {
   "codemirror_mode": {
    "name": "ipython",
    "version": 3
   },
   "file_extension": ".py",
   "mimetype": "text/x-python",
   "name": "python",
   "nbconvert_exporter": "python",
   "pygments_lexer": "ipython3",
   "version": "3.9.7"
  }
 },
 "nbformat": 4,
 "nbformat_minor": 5
}
