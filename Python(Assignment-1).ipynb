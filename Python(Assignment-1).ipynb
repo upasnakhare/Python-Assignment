{
 "cells": [
  {
   "cell_type": "code",
   "execution_count": null,
   "id": "f5b1683c",
   "metadata": {},
   "outputs": [],
   "source": [
    "1. In the below elements which of them are values or an expression? eg:- values can be\n",
    "integer or string and expressions will be mathematical operators.\n",
    "\n",
    "* -> expression\n",
    "'hello' -> value\n",
    "-87.8 -> value\n",
    "- ->expression\n",
    "/ -> expression\n",
    "+ -> expression\n",
    "6 -> value"
   ]
  },
  {
   "cell_type": "code",
   "execution_count": null,
   "id": "a6904290",
   "metadata": {},
   "outputs": [],
   "source": [
    "2. What is the difference between string and variable?\n",
    "\n",
    "String: \n",
    "    1. String is a collection or sequence of a character or we can say it is an information which we used to store in a variable.\n",
    "    2. example of string is \"ineuron\"\n",
    "\n",
    "Variable: \n",
    "    1. Variable is a single character used to store an information.\n",
    "    2. variable can be any charcter for example a, b, c, etc\n",
    "    \n",
    "example for both string a variable: \n",
    "    a = \"hello ineuron\"\n",
    "    where a is a variable and \"hello ineuron\" is a string"
   ]
  },
  {
   "cell_type": "code",
   "execution_count": null,
   "id": "c852ce36",
   "metadata": {},
   "outputs": [],
   "source": [
    "3. Describe three different data types.\n",
    "\n",
    "a. Numeric: This data type stores numeric values like integer, floating point numbers.\n",
    "b. String : This data type stores characters like alphabetic letters, numbers and symbols. \n",
    "c. Boolean : This data type have only two types of value True/False."
   ]
  },
  {
   "cell_type": "code",
   "execution_count": null,
   "id": "1ad1f8aa",
   "metadata": {},
   "outputs": [],
   "source": [
    "4. What is an expression made up of? What do all expressions do?\n",
    "\n",
    "An expression is made of operators and variables. It is a combination of operators and operends which is used to create a new value. \n",
    "An expression is a representation of a value which is constructed as per the syntax of any programming language and which is used to evaluate the value. \n",
    "\n",
    "Ex: a = 10\n",
    "    b = 10\n",
    "    c = a+b --> it is an expression\n"
   ]
  },
  {
   "cell_type": "code",
   "execution_count": null,
   "id": "86ea1fec",
   "metadata": {},
   "outputs": [],
   "source": [
    "5. This assignment statements, like spam = 10. What is the difference between an expression and a statement?\n",
    "\n",
    "expression: 1. An expression is a piece of code which is used to evaluate another value.\n",
    "            2. An expression gets executes and return another value. \n",
    "            3. Example of an expression is : a = b+c\n",
    "    \n",
    "statement: 1. A statement is a smallest executeable code or we can say is an instruction which is given to a compiler as a command.\n",
    "           2. Example of a statement is a = 10\n",
    "                                        print(a)"
   ]
  },
  {
   "cell_type": "code",
   "execution_count": 1,
   "id": "e424a1ed",
   "metadata": {},
   "outputs": [
    {
     "data": {
      "text/plain": [
       "23"
      ]
     },
     "execution_count": 1,
     "metadata": {},
     "output_type": "execute_result"
    }
   ],
   "source": [
    "6. After running the following code, what does the variable bacon contain?\n",
    "bacon = 22\n",
    "bacon + 1\n",
    "\n",
    "bacon contains the value 23 "
   ]
  },
  {
   "cell_type": "code",
   "execution_count": 2,
   "id": "d01dac4a",
   "metadata": {},
   "outputs": [
    {
     "data": {
      "text/plain": [
       "'spamspamspam'"
      ]
     },
     "execution_count": 2,
     "metadata": {},
     "output_type": "execute_result"
    }
   ],
   "source": [
    "7. What should the values of the following two terms be?\n",
    "'spam' + 'spamspam'\n",
    "'spam' * 3\n",
    "\n",
    "The value should be 'spamspamspam'"
   ]
  },
  {
   "cell_type": "code",
   "execution_count": null,
   "id": "2da4865c",
   "metadata": {},
   "outputs": [],
   "source": [
    "8. Why is eggs a valid variable name while 100 is invalid?\n",
    "\n",
    "We always take alphabet or any letter as an variable and a variable never starts with a number that is the reason 100 is invalid variable name and eggs is valid variable name. "
   ]
  },
  {
   "cell_type": "code",
   "execution_count": null,
   "id": "158baeb4",
   "metadata": {},
   "outputs": [],
   "source": [
    "9. What three functions can be used to get the integer, floating-point number, or string version of a value?\n",
    "\n",
    "1. For interger value we use int() function. \n",
    "2. For floating-point number we use float() function. \n",
    "3. For string value we use str() function."
   ]
  },
  {
   "cell_type": "code",
   "execution_count": 4,
   "id": "4b4b596c",
   "metadata": {},
   "outputs": [
    {
     "data": {
      "text/plain": [
       "'I have eaten 99 burritos.'"
      ]
     },
     "execution_count": 4,
     "metadata": {},
     "output_type": "execute_result"
    }
   ],
   "source": [
    "#10. Why does this expression cause an error? How can you fix it?\n",
    "\n",
    "'I have eaten ' + 99 + ' burritos.'\n",
    "\n",
    "The above expression causes error because we can concatenate str + str not str + int value. \n",
    "\n",
    "So to fix this issue we need to convert the integer value 99 into string as given below: \n",
    "    \n",
    "'I have eaten ' + '99' + ' burritos.'\n",
    "\n",
    "Below is the result after modifying the expression: \n",
    "\n",
    "result: 'I have eaten 99 burritos.'   "
   ]
  },
  {
   "cell_type": "code",
   "execution_count": null,
   "id": "8b20a6e0",
   "metadata": {},
   "outputs": [],
   "source": []
  }
 ],
 "metadata": {
  "kernelspec": {
   "display_name": "Python 3 (ipykernel)",
   "language": "python",
   "name": "python3"
  },
  "language_info": {
   "codemirror_mode": {
    "name": "ipython",
    "version": 3
   },
   "file_extension": ".py",
   "mimetype": "text/x-python",
   "name": "python",
   "nbconvert_exporter": "python",
   "pygments_lexer": "ipython3",
   "version": "3.9.7"
  }
 },
 "nbformat": 4,
 "nbformat_minor": 5
}
