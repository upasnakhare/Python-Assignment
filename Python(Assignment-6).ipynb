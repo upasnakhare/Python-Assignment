{
 "cells": [
  {
   "cell_type": "code",
   "execution_count": null,
   "id": "16379a21",
   "metadata": {},
   "outputs": [],
   "source": [
    "1. What are escape characters, and how do you use them?\n",
    "\n",
    "Escape character are used to represent those character which are not possible to insert as a code and these characters are followed by backslash. "
   ]
  },
  {
   "cell_type": "code",
   "execution_count": null,
   "id": "274d1f8e",
   "metadata": {},
   "outputs": [],
   "source": [
    "2. What do the escape characters n and t stand for?\n",
    "\n",
    "Escape character \\n is used for new line and \\t is used for tab."
   ]
  },
  {
   "cell_type": "code",
   "execution_count": null,
   "id": "dfe53e7b",
   "metadata": {},
   "outputs": [],
   "source": [
    "3. What is the way to include backslash characters in a string?\n",
    "\n",
    "In order to include backslash charcters in a string we need to use \\\\ as it represents the backslash character . "
   ]
  },
  {
   "cell_type": "code",
   "execution_count": null,
   "id": "9e91a10b",
   "metadata": {},
   "outputs": [],
   "source": [
    "4. The string \"Howl's Moving Castle\" is a correct value. Why isn't the single quote character in the word Howl's not \n",
    "escaped a problem?\n",
    "\n",
    "The single quote character in the word Howl's not escaped a problem because we have already used double quotes at start and end of the string. "
   ]
  },
  {
   "cell_type": "code",
   "execution_count": null,
   "id": "e9c98c94",
   "metadata": {},
   "outputs": [],
   "source": [
    "5. How do you write a string of newlines if you don't want to use the n character?\n",
    "\n",
    "By using print strings without n character by using \"end\" expression. However, multiple strings also allows to use newline without using n character."
   ]
  },
  {
   "cell_type": "code",
   "execution_count": null,
   "id": "e07777a5",
   "metadata": {},
   "outputs": [],
   "source": [
    "6. What are the values of the given expressions?\n",
    "\n",
    "The values for the given expressions are: \n",
    "    \n",
    "'Hello, world!'[1] --> 'e'\n",
    "'Hello, world!'[0:5] --> 'Hello'\n",
    "'Hello, world!'[:5] --> 'Hello'\n",
    "'Hello, world!'[3:] --> 'lo, world!'"
   ]
  },
  {
   "cell_type": "code",
   "execution_count": 8,
   "id": "a57a1f7b",
   "metadata": {},
   "outputs": [
    {
     "data": {
      "text/plain": [
       "'hello'"
      ]
     },
     "execution_count": 8,
     "metadata": {},
     "output_type": "execute_result"
    }
   ],
   "source": [
    "7. What are the values of the following expressions?\n",
    "\n",
    "The values for given expressions are: \n",
    "    \n",
    "'Hello'.upper() --> 'HELLO'\n",
    "'Hello'.upper().isupper() --> True\n",
    "'Hello'.upper().lower() --> 'hello'\n"
   ]
  },
  {
   "cell_type": "code",
   "execution_count": 11,
   "id": "87d6d4d4",
   "metadata": {},
   "outputs": [
    {
     "data": {
      "text/plain": [
       "'There-can-only-one.'"
      ]
     },
     "execution_count": 11,
     "metadata": {},
     "output_type": "execute_result"
    }
   ],
   "source": [
    "#8. What are the values of the following expressions?\n",
    "\n",
    "\n",
    "The values for the given expressions are:\n",
    "\n",
    "'Remember, remember, the fifth of July.'.split() --> ['Remember,', 'remember,', 'the', 'fifth', 'of', 'July.']\n",
    "\n",
    "'-'.join('There can only one.'.split()) --> 'There-can-only-one.'\n"
   ]
  },
  {
   "cell_type": "code",
   "execution_count": null,
   "id": "23c9395d",
   "metadata": {},
   "outputs": [],
   "source": [
    "9. What are the methods for right-justifying, left-justifying, and centering a string?\n",
    "\n",
    "The methods for 1. right-justifying is rjust()\n",
    "                2. left-justifying is ljust()\n",
    "                3. centering is center()"
   ]
  },
  {
   "cell_type": "code",
   "execution_count": null,
   "id": "31cb35f6",
   "metadata": {},
   "outputs": [],
   "source": [
    "10. What is the best way to remove whitespace characters from the start or end?\n",
    "\n",
    "The best ways to remove whitespace characters from the start or end is strip(), rstrip() and lstrip()"
   ]
  }
 ],
 "metadata": {
  "kernelspec": {
   "display_name": "Python 3 (ipykernel)",
   "language": "python",
   "name": "python3"
  },
  "language_info": {
   "codemirror_mode": {
    "name": "ipython",
    "version": 3
   },
   "file_extension": ".py",
   "mimetype": "text/x-python",
   "name": "python",
   "nbconvert_exporter": "python",
   "pygments_lexer": "ipython3",
   "version": "3.9.7"
  }
 },
 "nbformat": 4,
 "nbformat_minor": 5
}
