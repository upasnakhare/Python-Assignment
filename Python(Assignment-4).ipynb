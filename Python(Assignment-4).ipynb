{
 "cells": [
  {
   "cell_type": "code",
   "execution_count": null,
   "id": "575b4bdd",
   "metadata": {},
   "outputs": [],
   "source": [
    "1. What exactly is []?\n",
    "\n",
    "[] is ampty list value which is a list value contains no items in the list. "
   ]
  },
  {
   "cell_type": "code",
   "execution_count": 2,
   "id": "9e6b4c7d",
   "metadata": {},
   "outputs": [],
   "source": [
    "2. In a list of values stored in a variable called spam, how would you assign the value 'hello' as the third value? (Assume [2, 4, 6, 8, 10] are in spam.)\n",
    "\n",
    "spam = [2, 4, 6, 8, 10]\n",
    "spam[2]= \"hello\"\n",
    "\n",
    "spam[2] because as per problem statement we want \"hello\" as a third value and index of list value will be start from 0. \n",
    "\n",
    "Result after we assign \"hello\" as the third value to a list of values: \n",
    "    \n",
    "[2, 4, 'hello', 8, 10]"
   ]
  },
  {
   "cell_type": "code",
   "execution_count": null,
   "id": "7fc25567",
   "metadata": {},
   "outputs": [],
   "source": [
    "Let's pretend the spam includes the list ['a', 'b', 'c', 'd'] for the next three queries.\n",
    "3. What is the value of spam[int(int('3' * 2) / 11)]?\n",
    "\n",
    "The value of spam[int(int('3' * 2) / 11)] will be 'd' because int('3' *2) will be eventually interger 33 as *2 means \n",
    "it is replicating the '3' twice then int(33/11) after division the result will be 3 and spam[3] is 'd' and below is the output."
   ]
  },
  {
   "cell_type": "code",
   "execution_count": 10,
   "id": "aa4ba8e9",
   "metadata": {},
   "outputs": [
    {
     "data": {
      "text/plain": [
       "'d'"
      ]
     },
     "execution_count": 10,
     "metadata": {},
     "output_type": "execute_result"
    }
   ],
   "source": [
    "spam = ['a', 'b', 'c', 'd']\n",
    "spam[int(int('3' * 2) / 11)]"
   ]
  },
  {
   "cell_type": "code",
   "execution_count": null,
   "id": "32e75fd5",
   "metadata": {},
   "outputs": [],
   "source": [
    "4. What is the value of spam[-1]?\n",
    "\n",
    "The value of spam[-1] will be 'd' as negative index starts from the end of the list. \n",
    "Below is the output:"
   ]
  },
  {
   "cell_type": "code",
   "execution_count": 11,
   "id": "0ed58903",
   "metadata": {},
   "outputs": [
    {
     "data": {
      "text/plain": [
       "'d'"
      ]
     },
     "execution_count": 11,
     "metadata": {},
     "output_type": "execute_result"
    }
   ],
   "source": [
    "spam = ['a', 'b', 'c', 'd']\n",
    "spam[-1]"
   ]
  },
  {
   "cell_type": "code",
   "execution_count": null,
   "id": "d559590d",
   "metadata": {},
   "outputs": [],
   "source": [
    "5. What is the value of spam[:2]?\n",
    "\n",
    "The value of spam[:2] will be ['a', 'b'] as the index will by default start from '0 till 1' (excluding the upperbound index '2')\n",
    "Below is the output:"
   ]
  },
  {
   "cell_type": "code",
   "execution_count": 12,
   "id": "fa727a75",
   "metadata": {},
   "outputs": [
    {
     "data": {
      "text/plain": [
       "['a', 'b']"
      ]
     },
     "execution_count": 12,
     "metadata": {},
     "output_type": "execute_result"
    }
   ],
   "source": [
    "spam = ['a', 'b', 'c', 'd']\n",
    "spam[:2]"
   ]
  },
  {
   "cell_type": "code",
   "execution_count": null,
   "id": "e7af4040",
   "metadata": {},
   "outputs": [],
   "source": [
    "Let's pretend bacon has the list [3.14, 'cat', 11, 'cat', 'True'] for the next three questions.\n",
    "6. What is the value of bacon.index('cat')?\n",
    "\n",
    "The value of bacon.index('cat') will be 1 because list contains the value 'cat' twice at index 1 and 3 \n",
    "but result will be the first index as shown below:"
   ]
  },
  {
   "cell_type": "code",
   "execution_count": 18,
   "id": "0fdb3631",
   "metadata": {},
   "outputs": [
    {
     "data": {
      "text/plain": [
       "1"
      ]
     },
     "execution_count": 18,
     "metadata": {},
     "output_type": "execute_result"
    }
   ],
   "source": [
    "bacon = [3.14, 'cat', 11, 'cat', True]\n",
    "bacon.index('cat')"
   ]
  },
  {
   "cell_type": "code",
   "execution_count": null,
   "id": "763d43fd",
   "metadata": {},
   "outputs": [],
   "source": [
    "7. How does bacon.append(99) change the look of the list value in bacon?\n",
    "\n",
    "bacon.append(99) will append 99 at the end of the list as below:"
   ]
  },
  {
   "cell_type": "code",
   "execution_count": 20,
   "id": "64accb7d",
   "metadata": {},
   "outputs": [
    {
     "data": {
      "text/plain": [
       "[3.14, 'cat', 11, 'cat', True, 99]"
      ]
     },
     "execution_count": 20,
     "metadata": {},
     "output_type": "execute_result"
    }
   ],
   "source": [
    "bacon.append(99)\n",
    "bacon"
   ]
  },
  {
   "cell_type": "code",
   "execution_count": null,
   "id": "15c527a9",
   "metadata": {},
   "outputs": [],
   "source": [
    "8. How does bacon.remove('cat') change the look of the list in bacon?\n",
    "\n",
    "bacon.remove('cat') will remove the value 'cat' which is at the index 1 only it will not remove the other one which is at index 3"
   ]
  },
  {
   "cell_type": "code",
   "execution_count": 21,
   "id": "326c0b7f",
   "metadata": {},
   "outputs": [
    {
     "data": {
      "text/plain": [
       "[3.14, 11, 'cat', True, 99]"
      ]
     },
     "execution_count": 21,
     "metadata": {},
     "output_type": "execute_result"
    }
   ],
   "source": [
    "bacon.remove('cat')\n",
    "bacon"
   ]
  },
  {
   "cell_type": "code",
   "execution_count": null,
   "id": "ce66525a",
   "metadata": {},
   "outputs": [],
   "source": [
    "9. What are the list concatenation and list replication operators?\n",
    "\n",
    "List concatenation operator is +\n",
    "List Replication operator is *"
   ]
  },
  {
   "cell_type": "code",
   "execution_count": null,
   "id": "bfb85c5a",
   "metadata": {},
   "outputs": [],
   "source": [
    "10. What is difference between the list methods append() and insert()?\n",
    "\n",
    "apend() - this method will append the given value at the end of the list only\n",
    "\n",
    "example: \n",
    "    list = [1,2,3,4]\n",
    "    list.append(5)\n",
    "     output:\n",
    "            [1,2,3,4,5]\n",
    "    \n",
    "insert()- this method will insert the given value to the particular index provided or anywhere in the list\n",
    "\n",
    "example: \n",
    "    list = [1,2,3,4]\n",
    "    list.insert(1,8)\n",
    "     output:\n",
    "            [1,8,2,3,4,5]"
   ]
  },
  {
   "cell_type": "code",
   "execution_count": null,
   "id": "1dec2c67",
   "metadata": {},
   "outputs": [],
   "source": [
    "11. What are the two methods for removing items from a list?\n",
    "\n",
    "The 2 different methods to remove the items from the list are:\n",
    "    \n",
    "    1.remove()\n",
    "    2.delete()"
   ]
  },
  {
   "cell_type": "code",
   "execution_count": null,
   "id": "8a54bba6",
   "metadata": {},
   "outputs": [],
   "source": [
    "12. Describe how list values and string values are identical.\n",
    "\n",
    "List values and string values are almost identical as both have indexes, we can use both in for loop. We can concatenate any new\n",
    "value to both. We can find out the lenght of list values and string values by using len() functions. "
   ]
  },
  {
   "cell_type": "code",
   "execution_count": null,
   "id": "4aeec11e",
   "metadata": {},
   "outputs": [],
   "source": [
    "13. What's the difference between tuples and lists?\n",
    "\n",
    "Tuples:\n",
    "    1. Tuples are immutable which cannot be changes.\n",
    "    2. We use paranthesis () to define tuples.\n",
    "    \n",
    "Lists:\n",
    "    \n",
    "    1. List is mutable we can change it anytime. We can add or remove any values from the list.\n",
    "    2. We use sqaure brackets [] to define lists."
   ]
  },
  {
   "cell_type": "code",
   "execution_count": null,
   "id": "6bf8fd76",
   "metadata": {},
   "outputs": [],
   "source": [
    "14. How do you type a tuple value that only contains the integer 42?\n",
    "\n",
    "tuple = (42,) (the comma is mandatory because tuple return the list of integers with the ()) if we do not use comma then it will\n",
    "return only value 42 not the list"
   ]
  },
  {
   "cell_type": "code",
   "execution_count": null,
   "id": "8d1746f2",
   "metadata": {},
   "outputs": [],
   "source": [
    "15. How do you get a list value's tuple form? How do you get a tuple value's list form?\n",
    "\n",
    "We get a list value's tuple form by using tuple() function\n",
    "We get a tuple value's list form by using list() function"
   ]
  },
  {
   "cell_type": "code",
   "execution_count": null,
   "id": "9f60242a",
   "metadata": {},
   "outputs": [],
   "source": [
    "16. Variables that \"contain\" list values are not necessarily lists themselves. Instead, what do they contain?\n",
    "\n",
    "They will contain references to list values rather than list values themselves."
   ]
  },
  {
   "cell_type": "code",
   "execution_count": null,
   "id": "49a94659",
   "metadata": {},
   "outputs": [],
   "source": [
    "17. How do you distinguish between copy.copy() and copy.deepcopy()?\n",
    "\n",
    "1. copy.copy() function will do a shallow copy of a list\n",
    "2. copy.deepcopy() function will do a deep copy of a list means it will duplicate any lists inside the list.\n",
    "\n",
    "The both functions have same value but different ids"
   ]
  }
 ],
 "metadata": {
  "kernelspec": {
   "display_name": "Python 3 (ipykernel)",
   "language": "python",
   "name": "python3"
  },
  "language_info": {
   "codemirror_mode": {
    "name": "ipython",
    "version": 3
   },
   "file_extension": ".py",
   "mimetype": "text/x-python",
   "name": "python",
   "nbconvert_exporter": "python",
   "pygments_lexer": "ipython3",
   "version": "3.9.7"
  }
 },
 "nbformat": 4,
 "nbformat_minor": 5
}
